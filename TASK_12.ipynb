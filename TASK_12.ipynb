{
  "nbformat": 4,
  "nbformat_minor": 0,
  "metadata": {
    "colab": {
      "provenance": []
    },
    "kernelspec": {
      "name": "python3",
      "display_name": "Python 3"
    },
    "language_info": {
      "name": "python"
    }
  },
  "cells": [
    {
      "cell_type": "code",
      "execution_count": 1,
      "metadata": {
        "id": "Lskte504gSqk"
      },
      "outputs": [],
      "source": [
        "# Task 12 - Classification Algorithms II\n",
        "# Multiple classification tasks in one notebook\n",
        "# Author: Uneeba\n",
        "import pandas as pd\n",
        "import numpy as np\n",
        "from sklearn.model_selection import train_test_split\n",
        "from sklearn.preprocessing import StandardScaler, LabelEncoder\n",
        "from sklearn.impute import SimpleImputer\n",
        "from sklearn.linear_model import LogisticRegression\n",
        "from sklearn.tree import DecisionTreeClassifier\n",
        "from sklearn.naive_bayes import MultinomialNB\n",
        "from sklearn.ensemble import RandomForestClassifier\n",
        "from sklearn.svm import SVC\n",
        "from sklearn.neighbors import KNeighborsClassifier\n",
        "from sklearn.metrics import precision_score, recall_score, f1_score, accuracy_score, roc_auc_score, confusion_matrix\n",
        "from sklearn.feature_extraction.text import TfidfVectorizer\n",
        "import warnings\n",
        "warnings.filterwarnings('ignore')"
      ]
    },
    {
      "cell_type": "code",
      "source": [
        "# Helper function to encode categorical columns\n",
        "def encode_cats(df):\n",
        "    for col in df.select_dtypes(include='object').columns:\n",
        "        df[col] = LabelEncoder().fit_transform(df[col])\n",
        "    return df\n"
      ],
      "metadata": {
        "id": "UPd50Vhigqa0"
      },
      "execution_count": 2,
      "outputs": []
    },
    {
      "cell_type": "markdown",
      "source": [
        " 1. **Employee Attrition Prediction - Logistic Regression**"
      ],
      "metadata": {
        "id": "fJ7BALhGxiCo"
      }
    },
    {
      "cell_type": "code",
      "source": [
        "# 1. Employee AttritioRegressionn - Logistic\n",
        "print(\"Employee Attrition Prediction\")\n",
        "df = pd.read_csv('/WA_Fn-UseC_-HR-Employee-Attrition (1).csv')\n",
        "df = encode_cats(df) # Move encode_cats before fillna\n",
        "df.fillna(df.median(), inplace=True)\n",
        "X = df.drop('Attrition', axis=1)\n",
        "y = df['Attrition']\n",
        "X = StandardScaler().fit_transform(X)\n",
        "X_train, X_test, y_train, y_test = train_test_split(X, y, test_size=0.2, random_state=42)\n",
        "model = LogisticRegression(max_iter=1000)\n",
        "model.fit(X_train, y_train)\n",
        "pred = model.predict(X_test)\n",
        "print(f\"Precision: {precision_score(y_test, pred):.2f}, Recall: {recall_score(y_test, pred):.2f}, F1: {f1_score(y_test, pred):.2f}\\n\")"
      ],
      "metadata": {
        "colab": {
          "base_uri": "https://localhost:8080/"
        },
        "id": "82cEU4l8g-oz",
        "outputId": "c377466a-dab5-4a02-ad8a-45994de3efa9"
      },
      "execution_count": 9,
      "outputs": [
        {
          "output_type": "stream",
          "name": "stdout",
          "text": [
            "Employee Attrition Prediction\n",
            "Precision: 0.68, Recall: 0.33, F1: 0.45\n",
            "\n"
          ]
        }
      ]
    },
    {
      "cell_type": "markdown",
      "source": [
        "**2. Heart Disease - KNN**"
      ],
      "metadata": {
        "id": "a6avty96yALq"
      }
    },
    {
      "cell_type": "code",
      "source": [
        "\n",
        "# 2. Heart Disease - KNN\n",
        "print(\"Heart Disease Prediction\")\n",
        "df = pd.read_csv('/heart.csv')\n",
        "df.fillna(df.mean(), inplace=True)\n",
        "df = encode_cats(df)\n",
        "X = df.drop('target', axis=1)\n",
        "y = df['target']\n",
        "X = StandardScaler().fit_transform(X)\n",
        "X_train, X_test, y_train, y_test = train_test_split(X, y, test_size=0.2, random_state=42)\n",
        "model = KNeighborsClassifier()\n",
        "model.fit(X_train, y_train)\n",
        "pred = model.predict(X_test)\n",
        "proba = model.predict_proba(X_test)[:,1]\n",
        "print(f\"Accuracy: {accuracy_score(y_test, pred):.2f}, ROC-AUC: {roc_auc_score(y_test, proba):.2f}\\n\")"
      ],
      "metadata": {
        "colab": {
          "base_uri": "https://localhost:8080/"
        },
        "id": "zYh5KF1kk-IG",
        "outputId": "946960f2-5fbc-41b6-f611-37773000812f"
      },
      "execution_count": 11,
      "outputs": [
        {
          "output_type": "stream",
          "name": "stdout",
          "text": [
            "Heart Disease Prediction\n",
            "Accuracy: 0.92, ROC-AUC: 0.92\n",
            "\n"
          ]
        }
      ]
    },
    {
      "cell_type": "markdown",
      "source": [
        "**3. Hospital Readmission - Logistic** **Regression**\n",
        "\n",
        "\n",
        "\n",
        "\n"
      ],
      "metadata": {
        "id": "IKANhwPpyIfY"
      }
    },
    {
      "cell_type": "code",
      "source": [
        "# 3. Hospital Readmission - Logistic Regression\n",
        "print(\" Hospital Readmission Prediction\")\n",
        "df = pd.read_csv('/diabetic_data.csv')\n",
        "for col in df.select_dtypes(include='object').columns:\n",
        "    df[col].fillna(df[col].mode()[0], inplace=True)\n",
        "for col in df.select_dtypes(include=['int64','float64']).columns:\n",
        "    df[col].fillna(df[col].median(), inplace=True)\n",
        "df = encode_cats(df)\n",
        "X = df.drop('readmitted', axis=1)\n",
        "y = df['readmitted']\n",
        "X = StandardScaler().fit_transform(X)\n",
        "X_train, X_test, y_train, y_test = train_test_split(X, y, test_size=0.2, random_state=42)\n",
        "model = LogisticRegression(max_iter=1000)\n",
        "model.fit(X_train, y_train)\n",
        "pred = model.predict(X_test)\n",
        "print(f\"Precision: {precision_score(y_test, pred, average='weighted'):.2f}, Recall: {recall_score(y_test, pred, average='weighted'):.2f}, F1: {f1_score(y_test, pred, average='weighted'):.2f}\\n\")"
      ],
      "metadata": {
        "colab": {
          "base_uri": "https://localhost:8080/"
        },
        "id": "0dFzOxFlleVD",
        "outputId": "be097b99-b29d-4722-c1d7-781d69e1897b"
      },
      "execution_count": 13,
      "outputs": [
        {
          "output_type": "stream",
          "name": "stdout",
          "text": [
            " Hospital Readmission Prediction\n",
            "Precision: 0.48, Recall: 0.55, F1: 0.49\n",
            "\n"
          ]
        }
      ]
    },
    {
      "cell_type": "markdown",
      "source": [
        "** 4. Credit Card Fraud - Decision Tree**"
      ],
      "metadata": {
        "id": "P-t1tIrfyVE7"
      }
    },
    {
      "cell_type": "code",
      "source": [
        "# 4. Credit Card Fraud - Decision Tree\n",
        "print(\" \")\n",
        "import pandas as pd\n",
        "from sklearn.preprocessing import StandardScaler\n",
        "from sklearn.model_selection import train_test_split\n",
        "from sklearn.tree import DecisionTreeClassifier\n",
        "from sklearn.metrics import roc_auc_score, confusion_matrix\n",
        "df = pd.read_csv('/content/creditcard.csv')\n",
        "df.fillna(df.median(), inplace=True)\n",
        "X = df.drop('Class', axis=1)\n",
        "y = df['Class']\n",
        "X = StandardScaler().fit_transform(X)\n",
        "X_train, X_test, y_train, y_test = train_test_split(X, y, test_size=0.2, random_state=42, stratify=y)\n",
        "model = DecisionTreeClassifier(random_state=42)\n",
        "model.fit(X_train, y_train)\n",
        "pred = model.predict(X_test)\n",
        "proba = model.predict_proba(X_test)[:,1]\n",
        "print(f\"ROC-AUC: {roc_auc_score(y_test, proba):.2f}\")\n",
        "print(\"Confusion Matrix:\")\n",
        "print(confusion_matrix(y_test, pred), \"\\n\")"
      ],
      "metadata": {
        "colab": {
          "base_uri": "https://localhost:8080/"
        },
        "id": "Bs6sNMQ4nNS7",
        "outputId": "f3e15e01-6c09-4d53-f11f-d86079d3e86e"
      },
      "execution_count": 6,
      "outputs": [
        {
          "output_type": "stream",
          "name": "stdout",
          "text": [
            " \n",
            "ROC-AUC: nan\n",
            "Confusion Matrix:\n",
            "[[795]] \n",
            "\n"
          ]
        },
        {
          "output_type": "stream",
          "name": "stderr",
          "text": [
            "/usr/local/lib/python3.12/dist-packages/sklearn/metrics/_ranking.py:379: UndefinedMetricWarning: Only one class is present in y_true. ROC AUC score is not defined in that case.\n",
            "  warnings.warn(\n",
            "/usr/local/lib/python3.12/dist-packages/sklearn/metrics/_classification.py:407: UserWarning: A single label was found in 'y_true' and 'y_pred'. For the confusion matrix to have the correct shape, use the 'labels' parameter to pass all known labels.\n",
            "  warnings.warn(\n"
          ]
        }
      ]
    },
    {
      "cell_type": "markdown",
      "source": [
        "** 5. Wine Quality - Decision Tree**\n",
        "\n"
      ],
      "metadata": {
        "id": "VPEUU-ctybNV"
      }
    },
    {
      "cell_type": "code",
      "metadata": {
        "colab": {
          "base_uri": "https://localhost:8080/"
        },
        "id": "4d6bf891",
        "outputId": "bfcefe68-50ff-43cc-d87e-1a10755958cf"
      },
      "source": [
        "# 5. Wine Quality - Decision Tree\n",
        "print(\" Wine Quality Classification\")\n",
        "df = pd.read_csv('/content/winequality-white.csv', sep=';', quotechar='\"', header=0) # Added sep, quotechar, and header\n",
        "df = encode_cats(df) # Moved encode_cats before fillna\n",
        "df.fillna(df.median(), inplace=True)\n",
        "X = df.drop('quality', axis=1)\n",
        "y = df['quality']\n",
        "X = StandardScaler().fit_transform(X)\n",
        "X_train, X_test, y_train, y_test = train_test_split(X, y, test_size=0.2, random_state=42)\n",
        "model = DecisionTreeClassifier(random_state=42)\n",
        "model.fit(X_train, y_train)\n",
        "pred = model.predict(X_test)\n",
        "acc = accuracy_score(y_test, pred)\n",
        "try:\n",
        "    roc = roc_auc_score(y_test, model.predict_proba(X_test), multi_class='ovr')\n",
        "except:\n",
        "    roc = np.nan\n",
        "print(f\"Accuracy: {acc:.2f}, ROC-AUC: {roc:.2f}\\n\")"
      ],
      "execution_count": 10,
      "outputs": [
        {
          "output_type": "stream",
          "name": "stdout",
          "text": [
            " Wine Quality Classification\n",
            "Accuracy: 0.61, ROC-AUC: nan\n",
            "\n"
          ]
        }
      ]
    },
    {
      "cell_type": "markdown",
      "source": [
        "**6. SMS Spam - Naive Bayes**"
      ],
      "metadata": {
        "id": "SHaZj9ZuysqV"
      }
    },
    {
      "cell_type": "code",
      "metadata": {
        "colab": {
          "base_uri": "https://localhost:8080/"
        },
        "id": "27dc957c",
        "outputId": "372826ad-c14b-48c5-852b-b02b806cfb51"
      },
      "source": [
        "# 6. SMS Spam - Naive Bayes\n",
        "print(\"SMS Spam Classification\")\n",
        "df = pd.read_csv('/content/SMSSpamCollection', sep='\\t', names=['label','message'])\n",
        "df['message'] = df['message'].astype(str).str.lower().str.replace(r'\\W', ' ', regex=True).str.replace(r'\\s+', ' ', regex=True).str.strip()\n",
        "df['label'] = df['label'].map({'ham':0, 'spam':1})\n",
        "df.dropna(subset=['label'], inplace=True) # Drop rows where label is NaN after mapping\n",
        "df = df[df['message'] != ''].copy() # Drop rows where message is empty after cleaning\n",
        "\n",
        "tfidf = TfidfVectorizer(stop_words='english')\n",
        "X = tfidf.fit_transform(df['message'])\n",
        "y = df['label']\n",
        "\n",
        "X_train, X_test, y_train, y_test = train_test_split(X, y, test_size=0.2, random_state=42)\n",
        "\n",
        "model = MultinomialNB()\n",
        "model.fit(X_train, y_train)\n",
        "pred = model.predict(X_test)\n",
        "proba = model.predict_proba(X_test)[:,1]\n",
        "\n",
        "print(f\"Precision: {precision_score(y_test, pred):.2f}, Recall: {recall_score(y_test, pred):.2f}, F1: {f1_score(y_test, pred):.2f}, ROC-AUC: {roc_auc_score(y_test, proba):.2f}\\n\")"
      ],
      "execution_count": 12,
      "outputs": [
        {
          "output_type": "stream",
          "name": "stdout",
          "text": [
            "SMS Spam Classification\n",
            "Precision: 1.00, Recall: 0.87, F1: 0.93, ROC-AUC: 0.99\n",
            "\n"
          ]
        }
      ]
    },
    {
      "cell_type": "markdown",
      "source": [
        "**7. Diabetes Prediction - RandomForest**\n",
        "\n"
      ],
      "metadata": {
        "id": "-ccByVSQywe_"
      }
    },
    {
      "cell_type": "code",
      "source": [
        "# 7. Diabetes Prediction - RandomForest\n",
        "print(\" Diabetes Prediction\")\n",
        "df = pd.read_csv('/content/diabetes (1).csv')\n",
        "df.fillna(df.median(), inplace=True)\n",
        "X = df.drop('Outcome', axis=1)\n",
        "y = df['Outcome']\n",
        "X = StandardScaler().fit_transform(X)\n",
        "X_train, X_test, y_train, y_test = train_test_split(X, y, test_size=0.2, random_state=42)\n",
        "model = RandomForestClassifier(random_state=42)\n",
        "model.fit(X_train, y_train)\n",
        "pred = model.predict(X_test)\n",
        "proba = model.predict_proba(X_test)[:,1]\n",
        "print(f\"Accuracy: {accuracy_score(y_test, pred):.2f}, ROC-AUC: {roc_auc_score(y_test, proba):.2f}\")\n",
        "print(\"Feature importances:\")\n",
        "for f, imp in zip(df.columns[:-1], model.feature_importances_):\n",
        "    print(f\"  {f}: {imp:.3f}\")\n",
        "print()"
      ],
      "metadata": {
        "colab": {
          "base_uri": "https://localhost:8080/"
        },
        "id": "y6k5DU_Pv6hr",
        "outputId": "9fd8d578-db6e-470c-93ee-5e9e17e5e885"
      },
      "execution_count": 14,
      "outputs": [
        {
          "output_type": "stream",
          "name": "stdout",
          "text": [
            " Diabetes Prediction\n",
            "Accuracy: 0.73, ROC-AUC: 0.81\n",
            "Feature importances:\n",
            "  Pregnancies: 0.077\n",
            "  Glucose: 0.259\n",
            "  BloodPressure: 0.088\n",
            "  SkinThickness: 0.066\n",
            "  Insulin: 0.076\n",
            "  BMI: 0.170\n",
            "  DiabetesPedigreeFunction: 0.124\n",
            "  Age: 0.141\n",
            "\n"
          ]
        }
      ]
    },
    {
      "cell_type": "markdown",
      "source": [
        "**8. Iris Flower Classification**\n"
      ],
      "metadata": {
        "id": "w455UjHYy4UE"
      }
    },
    {
      "cell_type": "code",
      "source": [
        "# 8. Iris - SVM\n",
        "print(\"Iris Flower Classification\")\n",
        "iris = load_iris()\n",
        "X, y = iris.data, iris.target\n",
        "X = StandardScaler().fit_transform(X)\n",
        "X_train, X_test, y_train, y_test = train_test_split(X, y, test_size=0.2, random_state=42)\n",
        "model = SVC(kernel='linear', probability=True, random_state=42)\n",
        "model.fit(X_train, y_train)\n",
        "pred = model.predict(X_test)\n",
        "print(f\"Accuracy: {accuracy_score(y_test, pred):.2f}, Precision: {precision_score(y_test, pred, average='macro'):.2f}, Recall: {recall_score(y_test, pred, average='macro'):.2f}\\n\")"
      ],
      "metadata": {
        "colab": {
          "base_uri": "https://localhost:8080/"
        },
        "id": "gWoUMJIpwcW8",
        "outputId": "c6f1b32d-61f0-4591-c04e-b8f172462bdd"
      },
      "execution_count": 17,
      "outputs": [
        {
          "output_type": "stream",
          "name": "stdout",
          "text": [
            "Iris Flower Classification\n",
            "Accuracy: 0.97, Precision: 0.97, Recall: 0.96\n",
            "\n"
          ]
        }
      ]
    },
    {
      "cell_type": "markdown",
      "source": [
        "**9. Breast Cancer- KNN**"
      ],
      "metadata": {
        "id": "exXZg0g_zBfH"
      }
    },
    {
      "cell_type": "code",
      "source": [
        "# 9. Breast Cancer - KNN\n",
        "print(\" Breast Cancer Classification\")\n",
        "cancer = load_breast_cancer()\n",
        "X, y = cancer.data, cancer.target\n",
        "X = StandardScaler().fit_transform(X)\n",
        "X_train, X_test, y_train, y_test = train_test_split(X, y, test_size=0.2, random_state=42)\n",
        "model = KNeighborsClassifier()\n",
        "model.fit(X_train, y_train)\n",
        "pred = model.predict(X_test)\n",
        "print(f\"Accuracy: {accuracy_score(y_test, pred):.2f}\")\n",
        "print(\"Confusion Matrix:\")\n",
        "print(confusion_matrix(y_test, pred))"
      ],
      "metadata": {
        "colab": {
          "base_uri": "https://localhost:8080/"
        },
        "id": "yIwO-Ds-w2go",
        "outputId": "65c23a3e-8b08-4daf-ca0d-08eebea2338f"
      },
      "execution_count": 22,
      "outputs": [
        {
          "output_type": "stream",
          "name": "stdout",
          "text": [
            "9) Breast Cancer Classification\n",
            "Accuracy: 0.95\n",
            "Confusion Matrix:\n",
            "[[40  3]\n",
            " [ 3 68]]\n"
          ]
        }
      ]
    }
  ]
}