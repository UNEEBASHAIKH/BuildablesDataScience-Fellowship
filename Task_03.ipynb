{
 "cells": [
  {
   "cell_type": "markdown",
   "id": "207ea8a4-a72e-4ba8-8f34-b43e92b7cd60",
   "metadata": {},
   "source": [
    "**Task 1: recursive factorial**\n",
    "\n",
    "**Definition:** A function that calculates the factorial of a number (n!) by calling itself with decreasing values until reaching the base case.\n",
    "\n",
    "**Why use it:** Demonstrates fundamental recursion principles, useful for mathematical computations, combinatorial problems, and understanding recursive thinking."
   ]
  },
  {
   "cell_type": "code",
   "execution_count": 9,
   "id": "52c90210-b843-4c06-a83a-4e05c4dc6c52",
   "metadata": {},
   "outputs": [
    {
     "name": "stdin",
     "output_type": "stream",
     "text": [
      "write any number 56\n"
     ]
    },
    {
     "name": "stdout",
     "output_type": "stream",
     "text": [
      "The factorial of 56 is 710998587804863451854045647463724949736497978881168458687447040000000000000\n"
     ]
    }
   ],
   "source": [
    "\n",
    "#Recursive Factorial\n",
    "def fact(numb):\n",
    "    # base case\n",
    "    if numb <= 1:\n",
    "        return 1\n",
    "    # recursive step\n",
    "    return numb * fact(numb-1)\n",
    "\n",
    "x = int(input(\"write any number\"))\n",
    "print(\"The factorial of\", x, \"is\", fact(x))\n"
   ]
  },
  {
   "cell_type": "markdown",
   "id": "e519eae4-dcc2-4c38-99cf-83c52c8fb131",
   "metadata": {},
   "source": [
    "**Task 2: Palindrome Linked List**\n",
    "**Definition:** Algorithm to check if a singly linked list reads the same forwards and backwards.\n",
    "\n",
    "**Why use it:** Important for data structure validation, string processing applications, and interview coding problems."
   ]
  },
  {
   "cell_type": "code",
   "execution_count": 3,
   "id": "73359909-c2cb-4929-b3e8-c739ecefa52b",
   "metadata": {},
   "outputs": [
    {
     "name": "stdout",
     "output_type": "stream",
     "text": [
      "The linked list is a palindrome.\n"
     ]
    }
   ],
   "source": [
    "class LNode:\n",
    "    def __init__(self, dat):\n",
    "        self.data = dat\n",
    "        self.next = None\n",
    "\n",
    "def check_palindrome(start):\n",
    "    vals = []\n",
    "    temp = start\n",
    "    while temp:\n",
    "        vals.append(temp.data)\n",
    "        temp = temp.next\n",
    "    return vals == vals[::-1]\n",
    "\n",
    "# build linked list manually\n",
    "a = LNode(1)\n",
    "a.next = LNode(2)\n",
    "a.next.next = LNode(3)\n",
    "a.next.next.next = LNode(2)\n",
    "a.next.next.next.next = LNode(1)\n",
    "\n",
    "if check_palindrome(a):\n",
    "    print(\"The linked list is a palindrome.\")\n",
    "else:\n",
    "    print(\"The linked list is not a palindrome.\")\n"
   ]
  },
  {
   "cell_type": "markdown",
   "id": "67e0ea0f-1366-41b0-aaea-f2366d7758fe",
   "metadata": {},
   "source": [
    "\n",
    "**Task 3: Merge Sorted Arrays**\n",
    "\n",
    "**Definition:** Combines two already sorted arrays into a single sorted array efficiently.\n",
    "\n",
    "**Why use it:** Essential for merge sort algorithm, database operations, and any scenario requiring combined sorted data from multiple sources."
   ]
  },
  {
   "cell_type": "code",
   "execution_count": 4,
   "id": "f8dfb7a0-7516-4b33-ab7d-d41fbf5dae4d",
   "metadata": {},
   "outputs": [
    {
     "name": "stdout",
     "output_type": "stream",
     "text": [
      "[1, 2, 3, 4, 5, 6]\n"
     ]
    }
   ],
   "source": [
    "#Task 3: Merge Sorted Arrays\n",
    "def merge_two(arrA, arrB):\n",
    "    return sorted(arrA + arrB)\n",
    "print(merge_two([1,3,5], [2,4,6]))\n"
   ]
  },
  {
   "cell_type": "markdown",
   "id": "87c83469-5529-43e3-96da-bf0cc0f34285",
   "metadata": {},
   "source": [
    "**Task 4: Binary Search Tree**\n",
    "\n",
    "**Definition:** A tree data structure where each node has at most two children, maintaining the property that left child < parent < right child.\n",
    "\n",
    "**Why use it:** Enables efficient searching, insertion, and deletion operations (O(log n) average case), widely used in databases and file systems."
   ]
  },
  {
   "cell_type": "code",
   "execution_count": 2,
   "id": "ba373caa-7bc1-42ca-bfbe-176bf1169299",
   "metadata": {},
   "outputs": [
    {
     "name": "stdout",
     "output_type": "stream",
     "text": [
      "Inorder Traversal: 20 30 40 50 60 70 80 \n",
      "Search 60: Found\n"
     ]
    }
   ],
   "source": [
    "class Node:\n",
    "    def __init__(self, val):\n",
    "        self.val = val\n",
    "        self.left = None\n",
    "        self.right = None\n",
    "\n",
    "def add(root, x):\n",
    "    if root is None:\n",
    "        return Node(x)\n",
    "    if x < root.val:\n",
    "        root.left = add(root.left, x)\n",
    "    else:\n",
    "        root.right = add(root.right, x)\n",
    "    return root\n",
    "\n",
    "def find(root, x):\n",
    "    if root is None:\n",
    "        return None\n",
    "    if root.val == x:\n",
    "        return root\n",
    "    if x < root.val:\n",
    "        return find(root.left, x)\n",
    "    return find(root.right, x)\n",
    "\n",
    "def show_inorder(root):\n",
    "    if root:\n",
    "        show_inorder(root.left)\n",
    "        print(root.val, end=\" \")\n",
    "        show_inorder(root.right)\n",
    "\n",
    "# Example usage\n",
    "tree = None\n",
    "for v in [50, 30, 70, 20, 40, 60, 80]:\n",
    "    tree = add(tree, v)\n",
    "\n",
    "print(\"Inorder Traversal:\", end=\" \")\n",
    "show_inorder(tree)\n",
    "print()\n",
    "\n",
    "print(\"Search 60:\", \"Found\" if find(tree, 60) else \"Not Found\")\n"
   ]
  },
  {
   "cell_type": "markdown",
   "id": "3249b9e5-9330-4e66-b685-b8a03979a947",
   "metadata": {},
   "source": [
    "**Task 5: Longest Palindromic Substring**\n",
    "\n",
    "**Definition:** Finds the longest contiguous substring that reads the same forwards and backwards within a given string.\n",
    "\n",
    "**Why use it:** Important for string analysis, DNA sequence processing, and natural language processing applications.\n",
    "\n"
   ]
  },
  {
   "cell_type": "code",
   "execution_count": 4,
   "id": "6677f923-d76a-41ab-83d8-e197481e7c23",
   "metadata": {},
   "outputs": [
    {
     "name": "stdout",
     "output_type": "stream",
     "text": [
      "ifififi\n",
      "ifi\n"
     ]
    }
   ],
   "source": [
    "def long_pal(s):\n",
    "    best = \"\"\n",
    "    for i in range(len(s)):\n",
    "        for j in range(i, len(s)):\n",
    "            piece = s[i:j+1]\n",
    "            if piece == piece[::-1] and len(piece) > len(best):\n",
    "                best = piece\n",
    "    return best\n",
    "\n",
    "print(long_pal(\"wifififif\"))\n",
    "print(long_pal(\"hifi\"))\n"
   ]
  },
  {
   "cell_type": "markdown",
   "id": "f0eb3e4d-7446-4dd1-a6c8-95680c2d6d5e",
   "metadata": {},
   "source": [
    "**Task 6: Merge Intervals**\n",
    "\n",
    "**Definition:** Combines overlapping or adjacent intervals into consolidated ranges.\n",
    "\n",
    "**Why use it:** Critical for calendar scheduling, time management systems, and any application dealing with time or numerical ranges."
   ]
  },
  {
   "cell_type": "code",
   "execution_count": 5,
   "id": "5d7d6cba-b64f-4f71-be43-cb729e6ff4c4",
   "metadata": {},
   "outputs": [
    {
     "name": "stdout",
     "output_type": "stream",
     "text": [
      "[[1, 6], [8, 10], [15, 18]]\n"
     ]
    }
   ],
   "source": [
    "def merge_intv(intv):\n",
    "    intv.sort(key=lambda x: x[0])\n",
    "    out = []\n",
    "    for seg in intv:\n",
    "        if not out or out[-1][1] < seg[0]:\n",
    "            out.append(list(seg))\n",
    "        else:\n",
    "            out[-1][1] = max(out[-1][1], seg[1])\n",
    "    return out\n",
    "\n",
    "print(merge_intv([(1,3),(2,6),(8,10),(15,18)]))\n"
   ]
  },
  {
   "cell_type": "markdown",
   "id": "2d51c6be-6177-4747-9e47-e4ef7ad5dbef",
   "metadata": {},
   "source": [
    "**Task 7: Maximum Subarray**\n",
    "\n",
    "**Definition:** Finds the contiguous subarray with the largest sum in a given array of numbers.\n",
    "\n",
    "**Why use it:** Fundamental for financial analysis (stock prices), signal processing, and data analysis applications."
   ]
  },
  {
   "cell_type": "code",
   "execution_count": 6,
   "id": "884539bd-b05f-4733-9214-6e1ca2606f3c",
   "metadata": {},
   "outputs": [
    {
     "name": "stdout",
     "output_type": "stream",
     "text": [
      "6\n"
     ]
    }
   ],
   "source": [
    "def max_sub(nums):\n",
    "    max_so_far = nums[0]\n",
    "    cur = nums[0]\n",
    "    for n in nums[1:]:\n",
    "        cur = max(n, cur+n)\n",
    "        max_so_far = max(max_so_far, cur)\n",
    "    return max_so_far\n",
    "\n",
    "arr = [-2,1,-3,4,-1,2,1,-5,4]\n",
    "print(max_sub(arr))\n"
   ]
  },
  {
   "cell_type": "markdown",
   "id": "eae49d11-0a38-476c-b12b-931fe3dce6bc",
   "metadata": {},
   "source": [
    "**Task 8: Reverse Linked List**\n",
    "\n",
    "**Definition:** Algorithm to reverse the direction of pointers in a linked list, making the last node the first.\n",
    "\n",
    "\n",
    "**Why use it:** Common interview problem that tests pointer manipulation skills, useful in undo operations and certain algorithms."
   ]
  },
  {
   "cell_type": "code",
   "execution_count": 7,
   "id": "6ead05d3-b78f-430a-bada-6937044aa5ea",
   "metadata": {},
   "outputs": [
    {
     "name": "stdout",
     "output_type": "stream",
     "text": [
      "4 -> 3 -> 2 -> 1"
     ]
    }
   ],
   "source": [
    "class Node:\n",
    "    def __init__(self, v):\n",
    "        self.v = v\n",
    "        self.next = None\n",
    "\n",
    "def reverse(head):\n",
    "    prev = None\n",
    "    curr = head\n",
    "    while curr:\n",
    "        nxt = curr.next\n",
    "        curr.next = prev\n",
    "        prev = curr\n",
    "        curr = nxt\n",
    "    return prev\n",
    "\n",
    "h = Node(1)\n",
    "h.next = Node(2)\n",
    "h.next.next = Node(3)\n",
    "h.next.next.next = Node(4)\n",
    "\n",
    "rev_head = reverse(h)\n",
    "while rev_head:\n",
    "    print(rev_head.v, end=\" -> \" if rev_head.next else \"\")\n",
    "    rev_head = rev_head.next\n"
   ]
  },
  {
   "cell_type": "markdown",
   "id": "29bfbb7a-5886-4c8a-a678-2cca91a7ca86",
   "metadata": {},
   "source": [
    "**Task 9: Minimum Edit Distance**\n",
    "\n",
    "**Definition:** Calculates the minimum number of operations (insert, delete, substitute) required to transform one string into another.\n",
    "**Why use it:** Essential for spell checkers, DNA sequence alignment, plagiarism detection, and natural language processing."
   ]
  },
  {
   "cell_type": "code",
   "execution_count": null,
   "id": "88bce4ce-34f8-4c80-bea5-e2bda5bd388e",
   "metadata": {},
   "outputs": [],
   "source": [
    "def edit_dist(s1, s2):\n",
    "    m, n = len(s1), len(s2)\n",
    "    dp = [[0]*(n+1) for _ in range(m+1)]\n",
    "\n",
    "    for i in range(m+1):\n",
    "        for j in range(n+1):\n",
    "            if i == 0:\n",
    "                dp[i][j] = j\n",
    "            elif j == 0:\n",
    "                dp[i][j] = i\n",
    "            elif s1[i-1] == s2[j-1]:\n",
    "                dp[i][j] = dp[i-1][j-1]\n",
    "            else:\n",
    "                dp[i][j] = 1 + min(dp[i-1][j], dp[i][j-1], dp[i-1][j-1])\n",
    "    return dp[m][n]\n",
    "\n",
    "print(edit_dist(\"kitten\", \"sitting\"))\n"
   ]
  },
  {
   "cell_type": "markdown",
   "id": "eb652fff-d4d5-437b-8245-0b466e6a89fc",
   "metadata": {},
   "source": [
    "**Task 10: Boggle Game**\n",
    "**Definition:** Finds valid words in a grid of letters by traversing adjacent cells (including diagonals).\n",
    "**Why use it:** Demonstrates backtracking and depth-first search techniques, useful for word games and pattern recognition problems."
   ]
  },
  {
   "cell_type": "code",
   "execution_count": 8,
   "id": "9ced2252-e5df-45d1-ba6b-9f9cdbdeda5c",
   "metadata": {},
   "outputs": [
    {
     "name": "stdout",
     "output_type": "stream",
     "text": [
      "['BALL', 'AREA', 'AREA', 'AREA', 'LADY', 'LADY', 'LADY', 'BAR']\n"
     ]
    }
   ],
   "source": [
    "dirs = [(-1,-1), (-1,0), (-1,1), (0,-1), (0,1), (1,-1), (1,0), (1,1)]\n",
    "\n",
    "def valid(i, j, vis, bd):\n",
    "    return 0 <= i < len(bd) and 0 <= j < len(bd[0]) and not vis[i][j]\n",
    "\n",
    "def dfs(board, word, i, j, idx, vis):\n",
    "    if idx == len(word):\n",
    "        return True\n",
    "    if not valid(i,j,vis,board) or board[i][j] != word[idx]:\n",
    "        return False\n",
    "    vis[i][j] = True\n",
    "    for dx,dy in dirs:\n",
    "        if dfs(board, word, i+dx, j+dy, idx+1, vis):\n",
    "            return True\n",
    "    vis[i][j] = False\n",
    "    return False\n",
    "\n",
    "def boggle_words(board, words):\n",
    "    found = []\n",
    "    for w in words:\n",
    "        for i in range(len(board)):\n",
    "            for j in range(len(board[0])):\n",
    "                vis = [[False]*len(board[0]) for _ in range(len(board))]\n",
    "                if dfs(board, w, i, j, 0, vis):\n",
    "                    found.append(w)\n",
    "                    break\n",
    "    return found\n",
    "\n",
    "grid = [\n",
    "    ['B','A','L','L'],\n",
    "    ['A','R','E','A'],\n",
    "    ['L','A','D','Y'],\n",
    "    ['L','I','O','N']\n",
    "]\n",
    "words = [\"BALL\", \"AREA\", \"LADY\", \"IRON\", \"BAR\"]\n",
    "print(boggle_words(grid, words))\n"
   ]
  },
  {
   "cell_type": "markdown",
   "id": "1e7d7961-8afd-4024-b09f-a20960a8e932",
   "metadata": {},
   "source": [
    "**Task 11: Fibonacci Generator**\n",
    "**Definition:** A generator function that yields Fibonacci numbers on demand using minimal memory.\n",
    "**Why use it:** Shows efficient memory usage with generators, useful for mathematical sequences, financial modeling, and iterative processes."
   ]
  },
  {
   "cell_type": "code",
   "execution_count": null,
   "id": "a5fd705b-24ea-402d-9d3a-226993464ebd",
   "metadata": {},
   "outputs": [],
   "source": [
    "def fib_gen(n):\n",
    "    a, b = 0, 1\n",
    "    for i in range(n):\n",
    "        yield a\n",
    "        a, b = b, a+b\n",
    "\n",
    "for val in fib_gen(10):\n",
    "    print(val)\n"
   ]
  }
 ],
 "metadata": {
  "kernelspec": {
   "display_name": "Python 3 (ipykernel)",
   "language": "python",
   "name": "python3"
  },
  "language_info": {
   "codemirror_mode": {
    "name": "ipython",
    "version": 3
   },
   "file_extension": ".py",
   "mimetype": "text/x-python",
   "name": "python",
   "nbconvert_exporter": "python",
   "pygments_lexer": "ipython3",
   "version": "3.12.7"
  }
 },
 "nbformat": 4,
 "nbformat_minor": 5
}
