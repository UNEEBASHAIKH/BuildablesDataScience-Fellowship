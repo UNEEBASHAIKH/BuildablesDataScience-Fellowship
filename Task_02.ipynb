{
 "cells": [
  {
   "cell_type": "markdown",
   "id": "71e4087a-3cde-4816-a39a-106568e57c26",
   "metadata": {},
   "source": [
    "**Data Science Buildables Fellowship:\n",
    "This notebook contains solutions to a series of Python programming exercises, focusing on fundamental concepts like data structures, control flow, and algorithms**\n",
    "\n",
    "**Palindrome Checker (Word)**\n",
    "What is a Palindrome in Python?\n",
    "\n",
    "A palindrome is a word or phrase that stays the same when read from both directions, like madam, racecar, or noon. Checking for palindromes is a common coding task, and Python makes it super easy! \n",
    "The best examples of them include dad, mom, aibohphobia,radar etc. Take an example like 02/02/2020. It is a pattern called python palindromes, where you can read them from its first character forward or backward and it does not make a subtle difference.\n",
    "\n",
    "**Topic used**: String manipulation, string reversal\n",
    "\n",
    "**Approach**: Compare string with its reverse (using slicing: word[::-1])\n",
    "\n"
   ]
  },
  {
   "cell_type": "code",
   "execution_count": 1,
   "id": "b12affcb-ccb6-47ea-ae27-b8dc85a7ec28",
   "metadata": {},
   "outputs": [
    {
     "name": "stdout",
     "output_type": "stream",
     "text": [
      "radar is a palindrome.\n",
      "jupyter is not a palindrome.\n"
     ]
    }
   ],
   "source": [
    "##exercise: Check if a given word is a palindrome.\n",
    "def is_palindrome(word):  ##Checks if a given word is a palindrome (reads the same forwards and backwards).\n",
    "    \n",
    "     # Convert the word to lowercase and remove any spaces\n",
    "    # This makes the check case-insensitive and handles words with spaces\n",
    "    cleaned = word.lower().replace(\" \", \"\")\n",
    "     # Compare the cleaned word with its reverse\n",
    "    # [::-1] is Python slicing that reverses the string\n",
    "    # If they are identical, it's a palindrome\n",
    "    return f\"{word} is a palindrome.\" if cleaned == cleaned[::-1] else f\"{word} is not a palindrome.\"\n",
    "\n",
    "print(is_palindrome(\"radar\"))  \n",
    "print(is_palindrome(\"jupyter\"))  "
   ]
  },
  {
   "cell_type": "markdown",
   "id": "11841dfa-ea0c-435d-87d3-a42f47ef44f4",
   "metadata": {},
   "source": [
    " **FIZZ..., BUZZ..., FIZZBUZZ......**\n",
    "**The game is played between 2 people, each counting in turn. Every time:**\n",
    "\n",
    "**A multiple of 3 comes up, the number is replaced by “Fizz”.\n",
    "A multiple of 5 comes up, the number is replaced by “Buzz”.\n",
    "A multiple of 3 and 5 comes up, the number is replaced by “FizzBuzz”**"
   ]
  },
  {
   "cell_type": "code",
   "execution_count": 18,
   "id": "c88bdcb4-9fa3-4551-965a-685b92465127",
   "metadata": {},
   "outputs": [
    {
     "name": "stdout",
     "output_type": "stream",
     "text": [
      "1\n",
      "2\n",
      "Fizz\n",
      "4\n",
      "Buzz\n",
      "Fizz\n",
      "7\n",
      "8\n",
      "Fizz\n",
      "Buzz\n",
      "11\n",
      "Fizz\n",
      "13\n",
      "14\n",
      "FizzBuzz\n",
      "16\n",
      "17\n",
      "Fizz\n",
      "19\n",
      "Buzz\n",
      "Fizz\n",
      "22\n",
      "23\n",
      "Fizz\n",
      "Buzz\n",
      "26\n",
      "Fizz\n",
      "28\n",
      "29\n",
      "FizzBuzz\n",
      "31\n",
      "32\n",
      "Fizz\n",
      "34\n",
      "Buzz\n",
      "Fizz\n",
      "37\n",
      "38\n",
      "Fizz\n",
      "Buzz\n",
      "41\n",
      "Fizz\n",
      "43\n",
      "44\n",
      "FizzBuzz\n",
      "46\n",
      "47\n",
      "Fizz\n",
      "49\n",
      "Buzz\n",
      "Fizz\n",
      "52\n",
      "53\n",
      "Fizz\n",
      "Buzz\n",
      "56\n",
      "Fizz\n",
      "58\n",
      "59\n",
      "FizzBuzz\n",
      "61\n",
      "62\n",
      "Fizz\n",
      "64\n",
      "Buzz\n",
      "Fizz\n",
      "67\n",
      "68\n",
      "Fizz\n",
      "Buzz\n",
      "71\n",
      "Fizz\n",
      "73\n",
      "74\n",
      "FizzBuzz\n",
      "76\n",
      "77\n",
      "Fizz\n",
      "79\n",
      "Buzz\n",
      "Fizz\n",
      "82\n",
      "83\n",
      "Fizz\n",
      "Buzz\n",
      "86\n",
      "Fizz\n",
      "88\n",
      "89\n",
      "FizzBuzz\n",
      "91\n",
      "92\n",
      "Fizz\n",
      "94\n",
      "Buzz\n",
      "Fizz\n",
      "97\n",
      "98\n",
      "Fizz\n",
      "Buzz\n"
     ]
    }
   ],
   "source": [
    "#exercise :fizzbuzz(Print numbers from 1 to 100 with rules:)\n",
    "for n in range(1,101):\n",
    "    if n % 3 == 0 and n % 5 == 0: \n",
    "        # Check for multiples of both 3 AND 5 first\n",
    "        print(\"FizzBuzz\")\n",
    "    elif n % 3 == 0:              \n",
    "        # Then check for multiples of 3 only\n",
    "        print(\"Fizz\")\n",
    "    elif n % 5 == 0:             \n",
    "        # Then check for multiples of 5 only (was missing)\n",
    "        print(\"Buzz\")\n",
    "    else:\n",
    "        print(n)\n",
    "     "
   ]
  },
  {
   "cell_type": "markdown",
   "id": "5745177a-4351-49e6-8d23-4951d4c0d4df",
   "metadata": {},
   "source": [
    "**find Fibonacci nth number from the user**\n",
    "F(n) = F(n-1) + F(n-2) + ....... #formula \n"
   ]
  },
  {
   "cell_type": "code",
   "execution_count": 6,
   "id": "cc94c03e-7859-4be3-82a2-c6155d5fa5f8",
   "metadata": {},
   "outputs": [
    {
     "name": "stdin",
     "output_type": "stream",
     "text": [
      "the nth number you want to find for fibonacci sequence 6\n"
     ]
    },
    {
     "name": "stdout",
     "output_type": "stream",
     "text": [
      "8\n"
     ]
    }
   ],
   "source": [
    "##exercise :  Nth Fibonacci Number\n",
    "#Find the nth Fibonacci number.\n",
    "from math import sqrt\n",
    "\n",
    "# n defines the nth fibonacci number\n",
    "n =int(input(\"The nth number you want to find for fibonacci sequence is :\"))\n",
    "\n",
    "def fib(n):\n",
    "    p = ( 1 + sqrt(5) ) / 2\n",
    "    q = ( 1 - sqrt(5) ) / 2\n",
    "    return int((p**n-q**n) / sqrt(5)) \n",
    "    # to counter float value from the division operator int is used\n",
    "\n",
    "print(fib(n))"
   ]
  },
  {
   "cell_type": "markdown",
   "id": "5bfce9e2-8110-49fd-b9e0-f61c3d25ce4e",
   "metadata": {},
   "source": [
    "**fIND THE NUMBER BY CHECKING IS IT PRIME OR NOT**\n",
    "**PRIME NUMBERS**\n",
    "A prime number is a natural number greater than 1 that cannot be divided evenly by any other numbers except 1 and itself.\n"
   ]
  },
  {
   "cell_type": "code",
   "execution_count": 1,
   "id": "712d69f8-7d92-4291-8ef9-2d119a5125b5",
   "metadata": {},
   "outputs": [
    {
     "name": "stdin",
     "output_type": "stream",
     "text": [
      "Enter a number:  56\n"
     ]
    },
    {
     "name": "stdout",
     "output_type": "stream",
     "text": [
      "56 is not a prime number.\n"
     ]
    }
   ],
   "source": [
    "def is_prime(num):\n",
    "    if num < 2:\n",
    "        return False\n",
    "    for i in range(2, int(num ** 0.5) + 1):\n",
    "        if num % i == 0:\n",
    "            return False\n",
    "    return True\n",
    "num = int(input(\"Enter a number: \"))\n",
    "\n",
    "# Check and display result\n",
    "if is_prime(num):\n",
    "    print(f\"{num} is a prime number.\")\n",
    "else:\n",
    "    print(f\"{num} is not a prime number.\")"
   ]
  },
  {
   "cell_type": "markdown",
   "id": "1fb96cd0-aba3-4941-aafc-0ba862e40983",
   "metadata": {},
   "source": [
    "**GENERATE RANDOM NUMBERS  WITH THE PROGRAM EXECUTION OF TOO HIGH ,TOO LOW OR CORRECT**"
   ]
  },
  {
   "cell_type": "code",
   "execution_count": 2,
   "id": "13b369b6-b5d4-4ff6-a5d5-60e4d8cf8408",
   "metadata": {},
   "outputs": [
    {
     "name": "stdout",
     "output_type": "stream",
     "text": [
      "Guess the number between 1 and 100!\n"
     ]
    },
    {
     "name": "stdin",
     "output_type": "stream",
     "text": [
      "Enter your guess:  78\n"
     ]
    },
    {
     "name": "stdout",
     "output_type": "stream",
     "text": [
      "Too low!\n"
     ]
    },
    {
     "name": "stdin",
     "output_type": "stream",
     "text": [
      "Enter your guess:  43\n"
     ]
    },
    {
     "name": "stdout",
     "output_type": "stream",
     "text": [
      "Too low!\n"
     ]
    },
    {
     "name": "stdin",
     "output_type": "stream",
     "text": [
      "Enter your guess:  89\n"
     ]
    },
    {
     "name": "stdout",
     "output_type": "stream",
     "text": [
      "Too low!\n"
     ]
    },
    {
     "name": "stdin",
     "output_type": "stream",
     "text": [
      "Enter your guess:  12\n"
     ]
    },
    {
     "name": "stdout",
     "output_type": "stream",
     "text": [
      "Too low!\n"
     ]
    },
    {
     "name": "stdin",
     "output_type": "stream",
     "text": [
      "Enter your guess:  90\n"
     ]
    },
    {
     "name": "stdout",
     "output_type": "stream",
     "text": [
      "Too low!\n"
     ]
    },
    {
     "name": "stdin",
     "output_type": "stream",
     "text": [
      "Enter your guess:  59\n"
     ]
    },
    {
     "name": "stdout",
     "output_type": "stream",
     "text": [
      "Too low!\n"
     ]
    },
    {
     "name": "stdin",
     "output_type": "stream",
     "text": [
      "Enter your guess:  100\n"
     ]
    },
    {
     "name": "stdout",
     "output_type": "stream",
     "text": [
      "Too high!\n"
     ]
    },
    {
     "name": "stdin",
     "output_type": "stream",
     "text": [
      "Enter your guess:  98\n"
     ]
    },
    {
     "name": "stdout",
     "output_type": "stream",
     "text": [
      "Too high!\n"
     ]
    },
    {
     "name": "stdin",
     "output_type": "stream",
     "text": [
      "Enter your guess:  45\n"
     ]
    },
    {
     "name": "stdout",
     "output_type": "stream",
     "text": [
      "Too low!\n"
     ]
    },
    {
     "name": "stdin",
     "output_type": "stream",
     "text": [
      "Enter your guess:  95\n"
     ]
    },
    {
     "name": "stdout",
     "output_type": "stream",
     "text": [
      "Too high!\n"
     ]
    },
    {
     "name": "stdin",
     "output_type": "stream",
     "text": [
      "Enter your guess:  88\n"
     ]
    },
    {
     "name": "stdout",
     "output_type": "stream",
     "text": [
      "Too low!\n"
     ]
    },
    {
     "name": "stdin",
     "output_type": "stream",
     "text": [
      "Enter your guess:  91\n"
     ]
    },
    {
     "name": "stdout",
     "output_type": "stream",
     "text": [
      "Too low!\n"
     ]
    },
    {
     "name": "stdin",
     "output_type": "stream",
     "text": [
      "Enter your guess:  95\n"
     ]
    },
    {
     "name": "stdout",
     "output_type": "stream",
     "text": [
      "Too high!\n"
     ]
    },
    {
     "name": "stdin",
     "output_type": "stream",
     "text": [
      "Enter your guess:  92\n"
     ]
    },
    {
     "name": "stdout",
     "output_type": "stream",
     "text": [
      "Too low!\n"
     ]
    },
    {
     "name": "stdin",
     "output_type": "stream",
     "text": [
      "Enter your guess:  96\n"
     ]
    },
    {
     "name": "stdout",
     "output_type": "stream",
     "text": [
      "Too high!\n"
     ]
    },
    {
     "name": "stdin",
     "output_type": "stream",
     "text": [
      "Enter your guess:  93\n"
     ]
    },
    {
     "name": "stdout",
     "output_type": "stream",
     "text": [
      "Correct!\n"
     ]
    }
   ],
   "source": [
    "import random\n",
    "\n",
    "# Generate random number between 1 and 100\n",
    "secret = random.randint(1, 100)\n",
    "\n",
    "print(\"Guess the number between 1 and 100!\")\n",
    "\n",
    "while True:\n",
    "    guess = int(input(\"Enter your guess: \"))\n",
    "    \n",
    "    if guess > secret:\n",
    "        print(\"Too high!\")\n",
    "    elif guess < secret:\n",
    "        print(\"Too low!\")\n",
    "    else:\n",
    "        print(\"Correct!\")\n",
    "        break"
   ]
  },
  {
   "cell_type": "markdown",
   "id": "55bb0f94-d533-4b2c-b32a-42e870e440f1",
   "metadata": {},
   "source": [
    "**A LIST OF SQUARES FOR THE FIRST 10 INTEGERS**"
   ]
  },
  {
   "cell_type": "code",
   "execution_count": 7,
   "id": "ef3c2624-c18b-4e24-a125-fc194b91ab19",
   "metadata": {},
   "outputs": [
    {
     "name": "stdout",
     "output_type": "stream",
     "text": [
      "the squares of first ten integers is: [1, 4, 9, 16, 25, 36, 49, 64, 81, 100]\n"
     ]
    }
   ],
   "source": [
    "# exercise: List comprehension \n",
    "squares = [i**2 for i in range(1, 11)]\n",
    "print(\"the squares of first ten integers is:\", squares)\n"
   ]
  },
  {
   "cell_type": "markdown",
   "id": "5b395c29-1d6b-498c-b634-1abdaeea1671",
   "metadata": {},
   "source": [
    "**What is a Palindrome Sentence?**\n",
    "Palindrome Sentence: A sentence that reads the same forwards and backwards when you ignore spaces, punctuation, and capitalization.\n",
    "\n",
    "**Key Rules:**\n",
    "-Ignore spaces\n",
    "-Ignore punctuation (commas, periods, colons, etc.)\n",
    "-Ignore capitalization (uppercase/lowercase)\n",
    "-Only look at the letters\n",
    "\n",
    "**Examples:**\n",
    "A man, a plan, a canal: Panama"
   ]
  },
  {
   "cell_type": "code",
   "execution_count": 11,
   "id": "555a4946-5889-404c-ba3c-57ee88e76d02",
   "metadata": {},
   "outputs": [
    {
     "name": "stdin",
     "output_type": "stream",
     "text": [
      "Enter a sentence:  ride it \n"
     ]
    },
    {
     "name": "stdout",
     "output_type": "stream",
     "text": [
      "\"ride it \" is not a palindrome.\n"
     ]
    }
   ],
   "source": [
    "# check palindrome sentence \n",
    "sentence = input(\"Enter a sentence: \")\n",
    "clean = \"\"\n",
    "for char in sentence:\n",
    "    if char.isalpha():\n",
    "        clean += char.lower()\n",
    "\n",
    "if clean == clean[::-1]:\n",
    "    print(f'\"{sentence}\" is a palindrome.')\n",
    "else:\n",
    "    print(f'\"{sentence}\" is not a palindrome.')"
   ]
  },
  {
   "cell_type": "markdown",
   "id": "30999403-e4bc-4ffc-bb27-5146f875ca27",
   "metadata": {},
   "source": [
    "**What is an Anagram?**\n",
    "Anagram: Two words are anagrams if they contain the exact same letters but in different order.\n",
    "\n",
    "**Examples:**\n",
    "\"listen\" and \"silent\" → both have: l, i, s, t, e, n\n",
    "\"python\" and \"java\" → different letters entirely"
   ]
  },
  {
   "cell_type": "code",
   "execution_count": null,
   "id": "87ec5bc7-c116-464c-9eed-2fbd4b63e6e2",
   "metadata": {},
   "outputs": [],
   "source": [
    "# exercise :checks the words that are anagram or not \n",
    "\n",
    "word1 = input(\"Enter first word: \")\n",
    "word2 = input(\"Enter second word: \")\n",
    "\n",
    "if sorted(word1.lower()) == sorted(word2.lower()):\n",
    "    print(f'\"{word1}\" and \"{word2}\" are anagrams.')\n",
    "else:\n",
    "    print(f'\"{word1}\" and \"{word2}\" are not anagrams.')"
   ]
  },
  {
   "cell_type": "markdown",
   "id": "c44ef271-b736-4cfd-b39f-165155b604d9",
   "metadata": {},
   "source": []
  },
  {
   "cell_type": "code",
   "execution_count": 15,
   "id": "61b05972-137d-460c-910e-caf5eb573357",
   "metadata": {},
   "outputs": [
    {
     "name": "stdin",
     "output_type": "stream",
     "text": [
      "Enter a sentence:  hello world\n"
     ]
    },
    {
     "name": "stdout",
     "output_type": "stream",
     "text": [
      "Original: hello world\n",
      "Reversed: world hello\n"
     ]
    }
   ],
   "source": [
    "sentence = input(\"Enter a sentence: \")\n",
    "words = sentence.split()  # Split into words\n",
    "reversed_sentence = \" \".join(words[::-1])  # Reverse and join\n",
    "\n",
    "print(f\"Original: {sentence}\")\n",
    "print(f\"Reversed: {reversed_sentence}\")\n"
   ]
  },
  {
   "cell_type": "markdown",
   "id": "83dffbbf-d8ea-42b9-8c4c-453dc1888d67",
   "metadata": {},
   "source": [
    "\n",
    "**Temperature Scales**\n",
    "*Celsius (°C)**: Used worldwide\n",
    "\n",
    "Water freezes at 0°C, boils at 100°C\n",
    "Room temp: ~20°C\n",
    "\n",
    "Fahrenheit (°F): Used in USA\n",
    "\n",
    "Water freezes at 32°F, boils at 212°F\n",
    "Room temp: ~70°F\n",
    "\n",
    "Kelvin (K): Used in science\n",
    "\n",
    "Starts at absolute zero (coldest possible)\n",
    "Water freezes at 273K, boils at 373K\n",
    "\n",
    "**Conversion formulas: To change celsius into fahrenheit and kelvin**\n",
    "\n",
    "C to F: (C × 9/5) + 32\n",
    "F to C: (F - 32) × 5/9\n",
    "C to K: C + 273.15\n",
    "K to C: K - 273.15\n",
    "\n"
   ]
  },
  {
   "cell_type": "code",
   "execution_count": 16,
   "id": "2ce81044-de0a-4bd5-b51c-54a3fd558da7",
   "metadata": {},
   "outputs": [
    {
     "name": "stdin",
     "output_type": "stream",
     "text": [
      "Enter temperature:  56\n",
      "Enter unit (C for Celsius, F for Fahrenheit, K for Kelvin):  k\n"
     ]
    },
    {
     "name": "stdout",
     "output_type": "stream",
     "text": [
      "56.0°K = -217.15°C = -358.87°F = 56.00K\n"
     ]
    }
   ],
   "source": [
    "\n",
    "temp = float(input(\"Enter temperature: \"))\n",
    "unit = input(\"Enter unit (C for Celsius, F for Fahrenheit, K for Kelvin): \").upper()\n",
    "\n",
    "# Convert based on input unit\n",
    "if unit == \"C\":\n",
    "    # From Celsius\n",
    "    celsius = temp\n",
    "    fahrenheit = (celsius * 9/5) + 32\n",
    "    kelvin = celsius + 273.15\n",
    "    \n",
    "elif unit == \"F\":\n",
    "    # From Fahrenheit  \n",
    "    fahrenheit = temp\n",
    "    celsius = (fahrenheit - 32) * 5/9\n",
    "    kelvin = celsius + 273.15\n",
    "    \n",
    "elif unit == \"K\":\n",
    "    # From Kelvin\n",
    "    kelvin = temp\n",
    "    celsius = kelvin - 273.15\n",
    "    fahrenheit = (celsius * 9/5) + 32\n",
    "print(f\"{temp}°{unit} = {celsius:.2f}°C = {fahrenheit:.2f}°F = {kelvin:.2f}K\")"
   ]
  },
  {
   "cell_type": "markdown",
   "id": "deffda92-8a07-4765-bb9e-ea6d52fa820c",
   "metadata": {},
   "source": [
    "**What is a Custom Iterator Class?**\n",
    "**Iterator:** An object that can be looped through (like a list), but generates values one at a time instead of storing them all in memory.\n",
    "**Custom Iterator Class:** A class you create that can be used in a for loop by defining special methods."
   ]
  },
  {
   "cell_type": "code",
   "execution_count": 20,
   "id": "bc05680b-c503-4fe0-b62b-8102d6b15b9b",
   "metadata": {},
   "outputs": [
    {
     "name": "stdout",
     "output_type": "stream",
     "text": [
      "\n",
      "Custom iterator:\n",
      "0\n",
      "2\n",
      "4\n",
      "6\n",
      "8\n",
      "10\n"
     ]
    }
   ],
   "source": [
    "# Custom Iterator way (generates one number at a time)\n",
    "class EvenNumbers:\n",
    "    def __init__(self, limit):\n",
    "        self.limit = limit\n",
    "        self.num = 0\n",
    "    \n",
    "    def __iter__(self):\n",
    "        return self  # Makes it iterable\n",
    "    \n",
    "    def __next__(self):\n",
    "        if self.num <= self.limit:\n",
    "            current = self.num\n",
    "            self.num += 2\n",
    "            return current\n",
    "        raise StopIteration\n",
    "print(\"\\nCustom iterators are :\")\n",
    "it = EvenNumbers(10)\n",
    "for num in it:\n",
    "    print(num)\n"
   ]
  },
  {
   "cell_type": "code",
   "execution_count": null,
   "id": "cf6ae143-9439-4b1e-8dd6-08eaaeee2142",
   "metadata": {},
   "outputs": [],
   "source": []
  }
 ],
 "metadata": {
  "kernelspec": {
   "display_name": "Python 3 (ipykernel)",
   "language": "python",
   "name": "python3"
  },
  "language_info": {
   "codemirror_mode": {
    "name": "ipython",
    "version": 3
   },
   "file_extension": ".py",
   "mimetype": "text/x-python",
   "name": "python",
   "nbconvert_exporter": "python",
   "pygments_lexer": "ipython3",
   "version": "3.12.7"
  }
 },
 "nbformat": 4,
 "nbformat_minor": 5
}
